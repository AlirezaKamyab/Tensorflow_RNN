{
 "cells": [
  {
   "cell_type": "code",
   "execution_count": 1,
   "id": "2767f4c8",
   "metadata": {},
   "outputs": [
    {
     "name": "stderr",
     "output_type": "stream",
     "text": [
      "2023-06-30 01:08:01.204289: I tensorflow/core/platform/cpu_feature_guard.cc:182] This TensorFlow binary is optimized to use available CPU instructions in performance-critical operations.\n",
      "To enable the following instructions: AVX2 FMA, in other operations, rebuild TensorFlow with the appropriate compiler flags.\n",
      "2023-06-30 01:08:01.838234: W tensorflow/compiler/tf2tensorrt/utils/py_utils.cc:38] TF-TRT Warning: Could not find TensorRT\n"
     ]
    }
   ],
   "source": [
    "import tensorflow as tf\n",
    "from tensorflow import keras\n",
    "from tensorflow.keras.preprocessing.text import Tokenizer"
   ]
  },
  {
   "cell_type": "code",
   "execution_count": 2,
   "id": "925e1d4e",
   "metadata": {},
   "outputs": [],
   "source": [
    "texts = [\n",
    "    'I really love progarmming',\n",
    "    'It is often seen as something difficult but beautiful'\n",
    "]"
   ]
  },
  {
   "cell_type": "code",
   "execution_count": 3,
   "id": "9d3e5129",
   "metadata": {},
   "outputs": [],
   "source": [
    "tokenizer = Tokenizer(num_words=100)\n",
    "tokenizer.fit_on_texts(texts)"
   ]
  },
  {
   "cell_type": "code",
   "execution_count": 4,
   "id": "63158f5b",
   "metadata": {},
   "outputs": [
    {
     "name": "stdout",
     "output_type": "stream",
     "text": [
      "{'i': 1, 'really': 2, 'love': 3, 'progarmming': 4, 'it': 5, 'is': 6, 'often': 7, 'seen': 8, 'as': 9, 'something': 10, 'difficult': 11, 'but': 12, 'beautiful': 13}\n"
     ]
    }
   ],
   "source": [
    "word_index = tokenizer.word_index\n",
    "print(word_index)"
   ]
  },
  {
   "cell_type": "code",
   "execution_count": 5,
   "id": "5d74ea4d",
   "metadata": {},
   "outputs": [],
   "source": [
    "texts = [\n",
    "    'I really love progarmming',\n",
    "    'It is often seen as something difficult but beautiful',\n",
    "    'This is another text!'\n",
    "]"
   ]
  },
  {
   "cell_type": "code",
   "execution_count": 6,
   "id": "9c1eebd9",
   "metadata": {},
   "outputs": [
    {
     "name": "stdout",
     "output_type": "stream",
     "text": [
      "{'is': 1, 'i': 2, 'really': 3, 'love': 4, 'progarmming': 5, 'it': 6, 'often': 7, 'seen': 8, 'as': 9, 'something': 10, 'difficult': 11, 'but': 12, 'beautiful': 13, 'this': 14, 'another': 15, 'text': 16}\n"
     ]
    }
   ],
   "source": [
    "tokenizer = Tokenizer(num_words=1)\n",
    "tokenizer.fit_on_texts(texts)\n",
    "word_index = tokenizer.word_index\n",
    "print(word_index)"
   ]
  }
 ],
 "metadata": {
  "kernelspec": {
   "display_name": "Python 3 (ipykernel)",
   "language": "python",
   "name": "python3"
  },
  "language_info": {
   "codemirror_mode": {
    "name": "ipython",
    "version": 3
   },
   "file_extension": ".py",
   "mimetype": "text/x-python",
   "name": "python",
   "nbconvert_exporter": "python",
   "pygments_lexer": "ipython3",
   "version": "3.11.3"
  }
 },
 "nbformat": 4,
 "nbformat_minor": 5
}
