{
 "cells": [
  {
   "cell_type": "code",
   "execution_count": 1,
   "id": "73419796",
   "metadata": {},
   "outputs": [],
   "source": [
    "import os\n",
    "os.environ['TF_CPP_MIN_LOG_LEVEL'] = '2'"
   ]
  },
  {
   "cell_type": "code",
   "execution_count": 2,
   "id": "db4f4e47",
   "metadata": {},
   "outputs": [],
   "source": [
    "import tensorflow_datasets as tfds"
   ]
  },
  {
   "cell_type": "code",
   "execution_count": 3,
   "id": "648e1d0f",
   "metadata": {},
   "outputs": [],
   "source": [
    "imdb, info = tfds.load('imdb_reviews', as_supervised=True, with_info=True)"
   ]
  },
  {
   "cell_type": "code",
   "execution_count": 4,
   "id": "ec065d3f",
   "metadata": {},
   "outputs": [
    {
     "name": "stdout",
     "output_type": "stream",
     "text": [
      "tfds.core.DatasetInfo(\n",
      "    name='imdb_reviews',\n",
      "    full_name='imdb_reviews/plain_text/1.0.0',\n",
      "    description=\"\"\"\n",
      "    Large Movie Review Dataset. This is a dataset for binary sentiment\n",
      "    classification containing substantially more data than previous benchmark\n",
      "    datasets. We provide a set of 25,000 highly polar movie reviews for training,\n",
      "    and 25,000 for testing. There is additional unlabeled data for use as well.\n",
      "    \"\"\",\n",
      "    config_description=\"\"\"\n",
      "    Plain text\n",
      "    \"\"\",\n",
      "    homepage='http://ai.stanford.edu/~amaas/data/sentiment/',\n",
      "    data_path='/home/alireza/tensorflow_datasets/imdb_reviews/plain_text/1.0.0',\n",
      "    file_format=tfrecord,\n",
      "    download_size=80.23 MiB,\n",
      "    dataset_size=129.83 MiB,\n",
      "    features=FeaturesDict({\n",
      "        'label': ClassLabel(shape=(), dtype=int64, num_classes=2),\n",
      "        'text': Text(shape=(), dtype=string),\n",
      "    }),\n",
      "    supervised_keys=('text', 'label'),\n",
      "    disable_shuffling=False,\n",
      "    splits={\n",
      "        'test': <SplitInfo num_examples=25000, num_shards=1>,\n",
      "        'train': <SplitInfo num_examples=25000, num_shards=1>,\n",
      "        'unsupervised': <SplitInfo num_examples=50000, num_shards=1>,\n",
      "    },\n",
      "    citation=\"\"\"@InProceedings{maas-EtAl:2011:ACL-HLT2011,\n",
      "      author    = {Maas, Andrew L.  and  Daly, Raymond E.  and  Pham, Peter T.  and  Huang, Dan  and  Ng, Andrew Y.  and  Potts, Christopher},\n",
      "      title     = {Learning Word Vectors for Sentiment Analysis},\n",
      "      booktitle = {Proceedings of the 49th Annual Meeting of the Association for Computational Linguistics: Human Language Technologies},\n",
      "      month     = {June},\n",
      "      year      = {2011},\n",
      "      address   = {Portland, Oregon, USA},\n",
      "      publisher = {Association for Computational Linguistics},\n",
      "      pages     = {142--150},\n",
      "      url       = {http://www.aclweb.org/anthology/P11-1015}\n",
      "    }\"\"\",\n",
      ")\n"
     ]
    }
   ],
   "source": [
    "print(info)"
   ]
  },
  {
   "cell_type": "code",
   "execution_count": 6,
   "id": "ff81e262",
   "metadata": {},
   "outputs": [],
   "source": [
    "train, test = imdb['train'], imdb['test']"
   ]
  },
  {
   "cell_type": "code",
   "execution_count": 11,
   "id": "c95c3b5d",
   "metadata": {},
   "outputs": [
    {
     "name": "stdout",
     "output_type": "stream",
     "text": [
      "(<tf.Tensor: shape=(), dtype=string, numpy=b\"This was an absolutely terrible movie. Don't be lured in by Christopher Walken or Michael Ironside. Both are great actors, but this must simply be their worst role in history. Even their great acting could not redeem this movie's ridiculous storyline. This movie is an early nineties US propaganda piece. The most pathetic scenes were those when the Columbian rebels were making their cases for revolutions. Maria Conchita Alonso appeared phony, and her pseudo-love affair with Walken was nothing but a pathetic emotional plug in a movie that was devoid of any real meaning. I am disappointed that there are movies like this, ruining actor's like Christopher Walken's good name. I could barely sit through it.\">, <tf.Tensor: shape=(), dtype=int64, numpy=0>)\n",
      "(<tf.Tensor: shape=(), dtype=string, numpy=b'I have been known to fall asleep during films, but this is usually due to a combination of things including, really tired, being warm and comfortable on the sette and having just eaten a lot. However on this occasion I fell asleep because the film was rubbish. The plot development was constant. Constantly slow and boring. Things seemed to happen, but with no explanation of what was causing them or why. I admit, I may have missed part of the film, but i watched the majority of it and everything just seemed to happen of its own accord without any real concern for anything else. I cant recommend this film at all.'>, <tf.Tensor: shape=(), dtype=int64, numpy=0>)\n"
     ]
    }
   ],
   "source": [
    "for data in train.take(2):\n",
    "    print(data)"
   ]
  },
  {
   "cell_type": "markdown",
   "id": "9be29164",
   "metadata": {},
   "source": [
    "## Taking sequences and labels apart"
   ]
  },
  {
   "cell_type": "code",
   "execution_count": 21,
   "id": "6347fb97",
   "metadata": {},
   "outputs": [],
   "source": [
    "import numpy as np\n",
    "train_sen = []\n",
    "train_labels = []\n",
    "\n",
    "test_sen = []\n",
    "test_labels = []\n",
    "\n",
    "for s, l in train:\n",
    "    train_sen.append(s.numpy().decode('utf-8'))\n",
    "    train_labels.append(l.numpy())\n",
    "    \n",
    "for s, l in test:\n",
    "    test_sen.append(s.numpy().decode('utf-8'))\n",
    "    test_labels.append(l.numpy())\n",
    "    \n",
    "train_labels_final = np.array(train_labels)\n",
    "test_labels_final = np.array(test_labels)"
   ]
  },
  {
   "cell_type": "code",
   "execution_count": 59,
   "id": "3834cd7a",
   "metadata": {},
   "outputs": [
    {
     "name": "stdout",
     "output_type": "stream",
     "text": [
      "Size of training sentences: 25000\n",
      "Size of training labels: (25000,)\n",
      "Size of test sentences: 25000\n",
      "Size of test labels: (25000,)\n"
     ]
    }
   ],
   "source": [
    "print(f'Size of training sentences: {len(train_sen)}')\n",
    "print(f'Size of training labels: {train_labels_final.shape}')\n",
    "print(f'Size of test sentences: {len(test_sen)}')\n",
    "print(f'Size of test labels: {test_labels_final.shape}')"
   ]
  },
  {
   "cell_type": "markdown",
   "id": "6c0f8742",
   "metadata": {},
   "source": [
    "## Generate padded sequences"
   ]
  },
  {
   "cell_type": "code",
   "execution_count": 25,
   "id": "4f1e3886",
   "metadata": {},
   "outputs": [],
   "source": [
    "# Parameters\n",
    "\n",
    "vocab_size = 10000\n",
    "max_length = 120\n",
    "embedding_dim = 16\n",
    "trunc_type='post'\n",
    "oov_tok = \"<OOV>\""
   ]
  },
  {
   "cell_type": "code",
   "execution_count": 31,
   "id": "cbeac290",
   "metadata": {},
   "outputs": [],
   "source": [
    "from tensorflow.keras.preprocessing.text import Tokenizer\n",
    "from tensorflow.keras.preprocessing.sequence import pad_sequences\n",
    "\n",
    "# initialize tokenizer\n",
    "tokenizer = Tokenizer(num_words=vocab_size, oov_token=oov_tok)\n",
    "\n",
    "# fit tokenizer\n",
    "tokenizer.fit_on_texts(train_sen)\n",
    "\n",
    "sequences = tokenizer.texts_to_sequences(train_sen)\n",
    "padded = pad_sequences(sequences, maxlen=max_length, truncating=trunc_type)\n",
    "\n",
    "# doing the same for test set\n",
    "sequences_test = tokenizer.texts_to_sequences(test_sen)\n",
    "padded_test = pad_sequences(sequences_test, maxlen=max_length, truncating=trunc_type)"
   ]
  },
  {
   "cell_type": "markdown",
   "id": "68daf28d",
   "metadata": {},
   "source": [
    "## Build the model"
   ]
  },
  {
   "cell_type": "code",
   "execution_count": 30,
   "id": "ce4857db",
   "metadata": {},
   "outputs": [
    {
     "name": "stdout",
     "output_type": "stream",
     "text": [
      "Model: \"sequential\"\n",
      "_________________________________________________________________\n",
      " Layer (type)                Output Shape              Param #   \n",
      "=================================================================\n",
      " embedding (Embedding)       (None, 120, 16)           160000    \n",
      "                                                                 \n",
      " flatten (Flatten)           (None, 1920)              0         \n",
      "                                                                 \n",
      " dense (Dense)               (None, 6)                 11526     \n",
      "                                                                 \n",
      " dense_1 (Dense)             (None, 1)                 7         \n",
      "                                                                 \n",
      "=================================================================\n",
      "Total params: 171,533\n",
      "Trainable params: 171,533\n",
      "Non-trainable params: 0\n",
      "_________________________________________________________________\n"
     ]
    }
   ],
   "source": [
    "import tensorflow as tf\n",
    "\n",
    "model = tf.keras.Sequential([\n",
    "    tf.keras.layers.Embedding(vocab_size, embedding_dim, input_length=max_length),\n",
    "    tf.keras.layers.Flatten(),\n",
    "    tf.keras.layers.Dense(units=6, activation='relu'),\n",
    "    tf.keras.layers.Dense(units=1, activation='sigmoid')\n",
    "])\n",
    "\n",
    "model.compile(loss='binary_crossentropy', optimizer='adam', metrics=['accuracy'])\n",
    "\n",
    "model.summary()"
   ]
  },
  {
   "cell_type": "markdown",
   "id": "66f7025b",
   "metadata": {},
   "source": [
    "## Train the model"
   ]
  },
  {
   "cell_type": "code",
   "execution_count": 38,
   "id": "c4398a72",
   "metadata": {},
   "outputs": [
    {
     "name": "stdout",
     "output_type": "stream",
     "text": [
      "Epoch 1/10\n",
      "782/782 [==============================] - 28s 36ms/step - loss: 0.4810 - accuracy: 0.7569 - val_loss: 0.3812 - val_accuracy: 0.8296\n",
      "Epoch 2/10\n",
      "782/782 [==============================] - 5s 7ms/step - loss: 0.2359 - accuracy: 0.9104 - val_loss: 0.4093 - val_accuracy: 0.8222\n",
      "Epoch 3/10\n",
      "782/782 [==============================] - 4s 5ms/step - loss: 0.0958 - accuracy: 0.9745 - val_loss: 0.4979 - val_accuracy: 0.8101\n",
      "Epoch 4/10\n",
      "782/782 [==============================] - 3s 4ms/step - loss: 0.0268 - accuracy: 0.9962 - val_loss: 0.5839 - val_accuracy: 0.8107\n",
      "Epoch 5/10\n",
      "782/782 [==============================] - 3s 4ms/step - loss: 0.0100 - accuracy: 0.9988 - val_loss: 0.6477 - val_accuracy: 0.8096\n",
      "Epoch 6/10\n",
      "782/782 [==============================] - 3s 4ms/step - loss: 0.0043 - accuracy: 0.9995 - val_loss: 0.7154 - val_accuracy: 0.8072\n",
      "Epoch 7/10\n",
      "782/782 [==============================] - 3s 3ms/step - loss: 0.0014 - accuracy: 1.0000 - val_loss: 0.7785 - val_accuracy: 0.8054\n",
      "Epoch 8/10\n",
      "782/782 [==============================] - 3s 4ms/step - loss: 5.8171e-04 - accuracy: 1.0000 - val_loss: 0.8272 - val_accuracy: 0.8080\n",
      "Epoch 9/10\n",
      "782/782 [==============================] - 3s 4ms/step - loss: 3.6881e-04 - accuracy: 1.0000 - val_loss: 0.8754 - val_accuracy: 0.8079\n",
      "Epoch 10/10\n",
      "782/782 [==============================] - 3s 3ms/step - loss: 1.7750e-04 - accuracy: 1.0000 - val_loss: 0.9162 - val_accuracy: 0.8089\n"
     ]
    }
   ],
   "source": [
    "num_epochs = 10\n",
    "with tf.device('gpu:0'):\n",
    "    hist = model.fit(padded, train_labels_final, epochs=num_epochs, validation_data=(padded_test, test_labels_final))"
   ]
  },
  {
   "cell_type": "markdown",
   "id": "450c1756",
   "metadata": {},
   "source": [
    "## Visualizing the history"
   ]
  },
  {
   "cell_type": "code",
   "execution_count": 46,
   "id": "6af758e7",
   "metadata": {},
   "outputs": [
    {
     "data": {
      "text/plain": [
       "[<matplotlib.lines.Line2D at 0x7f5324496d50>]"
      ]
     },
     "execution_count": 46,
     "metadata": {},
     "output_type": "execute_result"
    },
    {
     "data": {
      "image/png": "[encoded data removed]",
      "text/plain": [
       "<Figure size 640x480 with 1 Axes>"
      ]
     },
     "metadata": {},
     "output_type": "display_data"
    }
   ],
   "source": [
    "import matplotlib.pyplot as plt\n",
    "\n",
    "plt.plot(hist.epoch, hist.history['accuracy']);\n",
    "plt.plot(hist.epoch, hist.history['val_accuracy'])"
   ]
  },
  {
   "cell_type": "markdown",
   "id": "fba9c1a4",
   "metadata": {},
   "source": [
    "## Visualizing embeddings"
   ]
  },
  {
   "cell_type": "code",
   "execution_count": 52,
   "id": "8ef03e78",
   "metadata": {},
   "outputs": [
    {
     "name": "stdout",
     "output_type": "stream",
     "text": [
      "Shape of embedding weights: (10000, 16)\n"
     ]
    }
   ],
   "source": [
    "embedding_layer = model.layers[0]\n",
    "\n",
    "embedding_weights = embedding_layer.get_weights()[0]\n",
    "\n",
    "print(f'Shape of embedding weights: {embedding_weights.shape}')"
   ]
  },
  {
   "cell_type": "code",
   "execution_count": 55,
   "id": "dd4f9637",
   "metadata": {},
   "outputs": [],
   "source": [
    "reversed_index = tokenizer.index_word"
   ]
  },
  {
   "cell_type": "code",
   "execution_count": 58,
   "id": "e0238d04",
   "metadata": {},
   "outputs": [],
   "source": [
    "out_m = open('meta.tsv', 'w', encoding='utf-8')\n",
    "out_v = open('vecs.tsv', 'w', encoding='utf-8')\n",
    "\n",
    "for index in range(1, vocab_size):\n",
    "    word_name = reversed_index[index]\n",
    "    word_embedding = embedding_weights[index]\n",
    "    \n",
    "    print(word_name, file=out_m)\n",
    "    print('\\t'.join([str(x) for x in word_embedding]), file=out_v)\n",
    "\n",
    "out_v.close()\n",
    "out_m.close()"
   ]
  }
 ],
 "metadata": {
  "kernelspec": {
   "display_name": "Python 3 (ipykernel)",
   "language": "python",
   "name": "python3"
  },
  "language_info": {
   "codemirror_mode": {
    "name": "ipython",
    "version": 3
   },
   "file_extension": ".py",
   "mimetype": "text/x-python",
   "name": "python",
   "nbconvert_exporter": "python",
   "pygments_lexer": "ipython3",
   "version": "3.11.3"
  }
 },
 "nbformat": 4,
 "nbformat_minor": 5
}
