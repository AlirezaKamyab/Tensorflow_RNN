{
 "cells": [
  {
   "cell_type": "markdown",
   "id": "b23d6f8a",
   "metadata": {},
   "source": [
    "# Sarcasm classification"
   ]
  },
  {
   "cell_type": "markdown",
   "id": "6f0b0f1f",
   "metadata": {},
   "source": [
    "Read csv file and seperate texts and labels"
   ]
  },
  {
   "cell_type": "code",
   "execution_count": 1,
   "id": "81607786",
   "metadata": {},
   "outputs": [],
   "source": [
    "import os\n",
    "os.environ['TF_CPP_MIN_LOG_LEVEL'] = '2'"
   ]
  },
  {
   "cell_type": "code",
   "execution_count": 2,
   "id": "4ae68131",
   "metadata": {},
   "outputs": [],
   "source": [
    "import json\n",
    "import numpy as np\n",
    "\n",
    "file = open('Sarcasm_Headlines_Dataset_v2.json', 'r', encoding='utf-8')\n",
    "data = json.load(file)\n",
    "file.close()\n",
    "\n",
    "sentences = []\n",
    "labels = []\n",
    "\n",
    "for i in data:\n",
    "    sentences.append(i['headline'])\n",
    "    labels.append(i['is_sarcastic'])"
   ]
  },
  {
   "cell_type": "code",
   "execution_count": 3,
   "id": "aa0a7444",
   "metadata": {},
   "outputs": [
    {
     "name": "stdout",
     "output_type": "stream",
     "text": [
      "Length of sentences: 28619\n"
     ]
    }
   ],
   "source": [
    "print(f'Length of sentences: {len(sentences)}')"
   ]
  },
  {
   "cell_type": "markdown",
   "id": "3a78fe62",
   "metadata": {},
   "source": [
    "Split the data into training and test sets"
   ]
  },
  {
   "cell_type": "code",
   "execution_count": 4,
   "id": "ead9926e",
   "metadata": {},
   "outputs": [],
   "source": [
    "training_size = 20000 # size of the training set\n",
    "\n",
    "training_set = sentences[:training_size]\n",
    "test_set = sentences[training_size:]\n",
    "\n",
    "training_labels = labels[:training_size]\n",
    "test_labels = labels[training_size:]"
   ]
  },
  {
   "cell_type": "code",
   "execution_count": 5,
   "id": "6501f52a",
   "metadata": {},
   "outputs": [
    {
     "name": "stdout",
     "output_type": "stream",
     "text": [
      "Length of training set: 20000\n",
      "Length of test set: 8619\n"
     ]
    }
   ],
   "source": [
    "print(f'Length of training set: {len(training_set)}')\n",
    "print(f'Length of test set: {len(test_set)}')"
   ]
  },
  {
   "cell_type": "markdown",
   "id": "66e28b7f",
   "metadata": {},
   "source": [
    "## Hyperparameters"
   ]
  },
  {
   "cell_type": "code",
   "execution_count": 6,
   "id": "69ad2582",
   "metadata": {},
   "outputs": [],
   "source": [
    "vocab_size = 2000\n",
    "embedding_dim = 8\n",
    "max_length = 16\n",
    "oov_token = '<OOV>'\n",
    "\n",
    "trunc_type = 'post'\n",
    "padding_type = 'post'"
   ]
  },
  {
   "cell_type": "markdown",
   "id": "8c412f50",
   "metadata": {},
   "source": [
    "## Tokenizing"
   ]
  },
  {
   "cell_type": "code",
   "execution_count": 7,
   "id": "3d0f14e6",
   "metadata": {},
   "outputs": [],
   "source": [
    "from tensorflow.keras.preprocessing.text import Tokenizer\n",
    "from tensorflow.keras.preprocessing.sequence import pad_sequences"
   ]
  },
  {
   "cell_type": "code",
   "execution_count": 8,
   "id": "de827a9b",
   "metadata": {},
   "outputs": [],
   "source": [
    "# initialize the tokenizer\n",
    "tokenizer = Tokenizer(num_words=vocab_size, oov_token=oov_token)\n",
    "\n",
    "# fit the tokenizer\n",
    "tokenizer.fit_on_texts(training_set)\n",
    "\n",
    "# take sequences and pad them\n",
    "sequences = tokenizer.texts_to_sequences(training_set)\n",
    "padded = pad_sequences(sequences, maxlen=max_length, padding=padding_type, truncating=trunc_type)\n",
    "\n",
    "# take test_sequences and pad them\n",
    "sequences_test = tokenizer.texts_to_sequences(test_set)\n",
    "padded_test = pad_sequences(sequences_test, maxlen=max_length, padding=padding_type, truncating=trunc_type)\n",
    "\n",
    "training_labels = np.array(training_labels)\n",
    "test_labels = np.array(test_labels)"
   ]
  },
  {
   "cell_type": "markdown",
   "id": "1ebbdbf3",
   "metadata": {},
   "source": [
    "## Model"
   ]
  },
  {
   "cell_type": "code",
   "execution_count": 9,
   "id": "186c5b43",
   "metadata": {},
   "outputs": [],
   "source": [
    "import tensorflow as tf\n",
    "physical_devices = tf.config.experimental.list_physical_devices('GPU')\n",
    "assert len(physical_devices) > 0, \"Not enough GPU hardware devices available\"\n",
    "config = tf.config.experimental.set_memory_growth(physical_devices[0], True)"
   ]
  },
  {
   "cell_type": "code",
   "execution_count": 10,
   "id": "1dc7d281",
   "metadata": {},
   "outputs": [
    {
     "name": "stdout",
     "output_type": "stream",
     "text": [
      "Model: \"sequential\"\n",
      "_________________________________________________________________\n",
      " Layer (type)                Output Shape              Param #   \n",
      "=================================================================\n",
      " embedding (Embedding)       (None, 16, 8)             16000     \n",
      "                                                                 \n",
      " global_average_pooling1d (G  (None, 8)                0         \n",
      " lobalAveragePooling1D)                                          \n",
      "                                                                 \n",
      " dense (Dense)               (None, 24)                216       \n",
      "                                                                 \n",
      " dense_1 (Dense)             (None, 1)                 25        \n",
      "                                                                 \n",
      "=================================================================\n",
      "Total params: 16,241\n",
      "Trainable params: 16,241\n",
      "Non-trainable params: 0\n",
      "_________________________________________________________________\n"
     ]
    }
   ],
   "source": [
    "model = tf.keras.Sequential([\n",
    "    tf.keras.layers.Embedding(vocab_size, embedding_dim, input_length=max_length),\n",
    "    tf.keras.layers.GlobalAveragePooling1D(),\n",
    "    tf.keras.layers.Dense(units=24, activation='relu'),\n",
    "    tf.keras.layers.Dense(units=1, activation='sigmoid')\n",
    "])\n",
    "\n",
    "model.compile(loss='binary_crossentropy', optimizer='adam', metrics=['accuracy'])\n",
    "\n",
    "model.summary()"
   ]
  },
  {
   "cell_type": "code",
   "execution_count": 11,
   "id": "12fd8639",
   "metadata": {},
   "outputs": [
    {
     "name": "stdout",
     "output_type": "stream",
     "text": [
      "Epoch 1/10\n",
      "625/625 [==============================] - 13s 18ms/step - loss: 0.5388 - accuracy: 0.7537 - val_loss: 0.3921 - val_accuracy: 0.8242\n",
      "Epoch 2/10\n",
      "625/625 [==============================] - 2s 3ms/step - loss: 0.3559 - accuracy: 0.8428 - val_loss: 0.3625 - val_accuracy: 0.8373\n",
      "Epoch 3/10\n",
      "625/625 [==============================] - 2s 3ms/step - loss: 0.3239 - accuracy: 0.8580 - val_loss: 0.3668 - val_accuracy: 0.8307\n",
      "Epoch 4/10\n",
      "625/625 [==============================] - 1s 2ms/step - loss: 0.3123 - accuracy: 0.8629 - val_loss: 0.3677 - val_accuracy: 0.8354\n",
      "Epoch 5/10\n",
      "625/625 [==============================] - 2s 2ms/step - loss: 0.3053 - accuracy: 0.8670 - val_loss: 0.3708 - val_accuracy: 0.8356\n",
      "Epoch 6/10\n",
      "625/625 [==============================] - 1s 2ms/step - loss: 0.3024 - accuracy: 0.8690 - val_loss: 0.3792 - val_accuracy: 0.8265\n",
      "Epoch 7/10\n",
      "625/625 [==============================] - 2s 2ms/step - loss: 0.2998 - accuracy: 0.8699 - val_loss: 0.3779 - val_accuracy: 0.8347\n",
      "Epoch 8/10\n",
      "625/625 [==============================] - 2s 2ms/step - loss: 0.2978 - accuracy: 0.8722 - val_loss: 0.3804 - val_accuracy: 0.8323\n",
      "Epoch 9/10\n",
      "625/625 [==============================] - 1s 2ms/step - loss: 0.2969 - accuracy: 0.8711 - val_loss: 0.3878 - val_accuracy: 0.8231\n",
      "Epoch 10/10\n",
      "625/625 [==============================] - 1s 2ms/step - loss: 0.2961 - accuracy: 0.8729 - val_loss: 0.3829 - val_accuracy: 0.8285\n"
     ]
    }
   ],
   "source": [
    "with tf.device('GPU:0'):\n",
    "    hist = model.fit(padded, training_labels, epochs=10, validation_data=(padded_test, test_labels))"
   ]
  },
  {
   "cell_type": "markdown",
   "id": "426dc17d",
   "metadata": {},
   "source": [
    "## Plotting the history"
   ]
  },
  {
   "cell_type": "code",
   "execution_count": 12,
   "id": "971d0b98",
   "metadata": {},
   "outputs": [
    {
     "data": {
      "image/png": "[encoded data removed]",
      "text/plain": [
       "<Figure size 1000x400 with 2 Axes>"
      ]
     },
     "metadata": {},
     "output_type": "display_data"
    }
   ],
   "source": [
    "import matplotlib.pyplot as plt\n",
    "\n",
    "fig, ax = plt.subplots(1, 2, figsize=(10, 4))\n",
    "ax[0].plot(hist.history['accuracy'], label='training_accuracy');\n",
    "ax[0].plot(hist.history['val_accuracy'], label='validation_accuracy');\n",
    "\n",
    "ax[1].plot(hist.history['loss'], label='training_loss')\n",
    "ax[1].plot(hist.history['val_loss'], label='validation_loss')\n",
    "\n",
    "ax[0].set_ylabel('Accuracy');\n",
    "ax[1].set_ylabel('Loss');\n",
    "\n",
    "ax[0].legend();\n",
    "ax[1].legend();"
   ]
  },
  {
   "cell_type": "code",
   "execution_count": null,
   "id": "8d88e3fc",
   "metadata": {},
   "outputs": [],
   "source": []
  }
 ],
 "metadata": {
  "kernelspec": {
   "display_name": "Python 3 (ipykernel)",
   "language": "python",
   "name": "python3"
  },
  "language_info": {
   "codemirror_mode": {
    "name": "ipython",
    "version": 3
   },
   "file_extension": ".py",
   "mimetype": "text/x-python",
   "name": "python",
   "nbconvert_exporter": "python",
   "pygments_lexer": "ipython3",
   "version": "3.11.3"
  }
 },
 "nbformat": 4,
 "nbformat_minor": 5
}
