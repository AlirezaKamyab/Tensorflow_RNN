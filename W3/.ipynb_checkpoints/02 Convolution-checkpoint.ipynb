{
 "cells": [
  {
   "cell_type": "markdown",
   "id": "45ea3687",
   "metadata": {},
   "source": [
    "# Convolution - IMDB_reviews"
   ]
  },
  {
   "cell_type": "code",
   "execution_count": 1,
   "id": "4811ffd0",
   "metadata": {},
   "outputs": [],
   "source": [
    "import os\n",
    "os.environ['TF_CPP_MIN_LOG_LEVEL'] = '2'"
   ]
  },
  {
   "cell_type": "code",
   "execution_count": 2,
   "id": "89b2d624",
   "metadata": {},
   "outputs": [],
   "source": [
    "import tensorflow as tf\n",
    "physical_devices = tf.config.experimental.list_physical_devices('GPU')\n",
    "config = tf.config.experimental.set_memory_growth(physical_devices[0], True)"
   ]
  },
  {
   "cell_type": "code",
   "execution_count": 3,
   "id": "ab741009",
   "metadata": {},
   "outputs": [
    {
     "name": "stderr",
     "output_type": "stream",
     "text": [
      "WARNING:absl:TFDS datasets with text encoding are deprecated and will be removed in a future version. Instead, you should use the plain text version and tokenize the text using `tensorflow_text` (See: https://www.tensorflow.org/tutorials/tensorflow_text/intro#tfdata_example)\n"
     ]
    }
   ],
   "source": [
    "import tensorflow_datasets as tfds\n",
    "imdb, info = tfds.load('imdb_reviews/subwords8k', with_info=True, as_supervised=True)"
   ]
  },
  {
   "cell_type": "markdown",
   "id": "c4373e8c",
   "metadata": {},
   "source": [
    "## Getting Data ready"
   ]
  },
  {
   "cell_type": "code",
   "execution_count": 4,
   "id": "8bc6155a",
   "metadata": {},
   "outputs": [],
   "source": [
    "train, test = imdb['train'], imdb['test'] # Getting Train and Test sets"
   ]
  },
  {
   "cell_type": "code",
   "execution_count": 5,
   "id": "5680ea2c",
   "metadata": {},
   "outputs": [
    {
     "name": "stdout",
     "output_type": "stream",
     "text": [
      "(<tf.Tensor: shape=(163,), dtype=int64, numpy=\n",
      "array([  62,   18,   41,  604,  927,   65,    3,  644, 7968,   21,   35,\n",
      "       5096,   36,   11,   43, 2948, 5240,  102,   50,  681, 7862, 1244,\n",
      "          3, 3266,   29,  122,  640,    2,   26,   14,  279,  438,   35,\n",
      "         79,  349,  384,   11, 1991,    3,  492,   79,  122,  188,  117,\n",
      "         33, 4047, 4531,   14,   65, 7968,    8, 1819, 3947,    3,   62,\n",
      "         27,    9,   41,  577, 5044, 2629, 2552, 7193, 7961, 3642,    3,\n",
      "         19,  107, 3903,  225,   85,  198,   72,    1, 1512,  738, 2347,\n",
      "        102, 6245,    8,   85,  308,   79, 6936, 7961,   23, 4981, 8044,\n",
      "          3, 6429, 7961, 1141, 1335, 1848, 4848,   55, 3601, 4217, 8050,\n",
      "          2,    5,   59, 3831, 1484, 8040, 7974,  174, 5773,   22, 5240,\n",
      "        102,   18,  247,   26,    4, 3903, 1612, 3902,  291,   11,    4,\n",
      "         27,   13,   18, 4092, 4008, 7961,    6,  119,  213, 2774,    3,\n",
      "         12,  258, 2306,   13,   91,   29,  171,   52,  229,    2, 1245,\n",
      "       5790,  995, 7968,    8,   52, 2948, 5240, 8039, 7968,    8,   74,\n",
      "       1249,    3,   12,  117, 2438, 1369,  192,   39, 7975])>, <tf.Tensor: shape=(), dtype=int64, numpy=0>)\n",
      "(<tf.Tensor: shape=(142,), dtype=int64, numpy=\n",
      "array([  12,   31,   93,  867,    7, 1256, 6585, 7961,  421,  365,    2,\n",
      "         26,   14,    9,  988, 1089,    7,    4, 6728,    6,  276, 5760,\n",
      "       2587,    2,   81, 6118, 8029,    2,  139, 1892, 7961,    5, 5402,\n",
      "        246,   25,    1, 1771,  350,    5,  369,   56, 5397,  102,    4,\n",
      "       2547,    3, 4001,   25,   14, 7822,  209,   12, 3531, 6585, 7961,\n",
      "         99,    1,   32,   18, 4762,    3,   19,  184, 3223,   18, 5855,\n",
      "       1045,    3, 4232, 3337,   64, 1347,    5, 1190,    3, 4459,    8,\n",
      "        614,    7, 3129,    2,   26,   22,   84, 7020,    6,   71,   18,\n",
      "       4924, 1160,  161,   50, 2265,    3,   12, 3983,    2,   12,  264,\n",
      "         31, 2545,  261,    6,    1,   66,    2,   26,  131,  393,    1,\n",
      "       5846,    6,   15,    5,  473,   56,  614,    7, 1470,    6,  116,\n",
      "        285, 4755, 2088, 7961,  273,  119,  213, 3414, 7961,   23,  332,\n",
      "       1019,    3,   12, 7667,  505,   14,   32,   44,  208, 7975])>, <tf.Tensor: shape=(), dtype=int64, numpy=0>)\n"
     ]
    }
   ],
   "source": [
    "# Let's now take a look at 2 items in train\n",
    "for i in train.take(2):\n",
    "    print(i)"
   ]
  },
  {
   "cell_type": "markdown",
   "id": "49396cc5",
   "metadata": {},
   "source": [
    "The training set is already tokenized; Tokenizer comes along with \"with_info\" return."
   ]
  },
  {
   "cell_type": "code",
   "execution_count": 6,
   "id": "eae7d60a",
   "metadata": {},
   "outputs": [],
   "source": [
    "tokenizer = info.features['text'].encoder"
   ]
  },
  {
   "cell_type": "code",
   "execution_count": 7,
   "id": "17916426",
   "metadata": {},
   "outputs": [
    {
     "name": "stdout",
     "output_type": "stream",
     "text": [
      "Length of training set is 25000\n",
      "Length of test set is 25000\n"
     ]
    }
   ],
   "source": [
    "print(f'Length of training set is {len(train)}')\n",
    "print(f'Length of test set is {len(test)}')"
   ]
  },
  {
   "cell_type": "markdown",
   "id": "c1260fd7",
   "metadata": {},
   "source": [
    "## Prepration"
   ]
  },
  {
   "cell_type": "code",
   "execution_count": 8,
   "id": "1ed47a9e",
   "metadata": {},
   "outputs": [],
   "source": [
    "buffer = 10000\n",
    "batch = 64\n",
    "train_dataset = train.shuffle(buffer)\n",
    "\n",
    "# Batch\n",
    "train_dataset = train_dataset.padded_batch(batch)\n",
    "test_dataset = test.padded_batch(batch)"
   ]
  },
  {
   "cell_type": "markdown",
   "id": "869ccd72",
   "metadata": {},
   "source": [
    "## Model"
   ]
  },
  {
   "cell_type": "code",
   "execution_count": 9,
   "id": "753f9081",
   "metadata": {},
   "outputs": [],
   "source": [
    "embedding_dim = 64\n",
    "lstm_dim = 64"
   ]
  },
  {
   "cell_type": "code",
   "execution_count": 13,
   "id": "94027edf",
   "metadata": {},
   "outputs": [
    {
     "name": "stdout",
     "output_type": "stream",
     "text": [
      "Model: \"sequential_1\"\n",
      "_________________________________________________________________\n",
      " Layer (type)                Output Shape              Param #   \n",
      "=================================================================\n",
      " embedding_1 (Embedding)     (None, None, 64)          523840    \n",
      "                                                                 \n",
      " conv1d_1 (Conv1D)           (None, None, 128)         41088     \n",
      "                                                                 \n",
      " global_average_pooling1d (G  (None, 128)              0         \n",
      " lobalAveragePooling1D)                                          \n",
      "                                                                 \n",
      " dense_2 (Dense)             (None, 64)                8256      \n",
      "                                                                 \n",
      " dense_3 (Dense)             (None, 1)                 65        \n",
      "                                                                 \n",
      "=================================================================\n",
      "Total params: 573,249\n",
      "Trainable params: 573,249\n",
      "Non-trainable params: 0\n",
      "_________________________________________________________________\n"
     ]
    }
   ],
   "source": [
    "model = tf.keras.Sequential([\n",
    "    tf.keras.layers.Embedding(tokenizer.vocab_size, embedding_dim),\n",
    "    tf.keras.layers.Conv1D(128, 5, activation='relu'),\n",
    "    tf.keras.layers.GlobalAveragePooling1D(),\n",
    "    tf.keras.layers.Dense(64, activation='relu'),\n",
    "    tf.keras.layers.Dense(1, activation='sigmoid')\n",
    "])\n",
    "\n",
    "model.summary()"
   ]
  },
  {
   "cell_type": "code",
   "execution_count": 14,
   "id": "37562f4d",
   "metadata": {},
   "outputs": [],
   "source": [
    "model.compile(loss='binary_crossentropy', optimizer='adam', metrics=['accuracy'])"
   ]
  },
  {
   "cell_type": "code",
   "execution_count": 15,
   "id": "53d623bc",
   "metadata": {},
   "outputs": [
    {
     "name": "stdout",
     "output_type": "stream",
     "text": [
      "Epoch 1/10\n",
      "391/391 [==============================] - 113s 282ms/step - loss: 0.4401 - accuracy: 0.7911 - val_loss: 0.3071 - val_accuracy: 0.8767\n",
      "Epoch 2/10\n",
      "391/391 [==============================] - 55s 140ms/step - loss: 0.2185 - accuracy: 0.9186 - val_loss: 0.3019 - val_accuracy: 0.8770\n",
      "Epoch 3/10\n",
      "391/391 [==============================] - 36s 91ms/step - loss: 0.1694 - accuracy: 0.9395 - val_loss: 0.3306 - val_accuracy: 0.8718\n",
      "Epoch 4/10\n",
      "391/391 [==============================] - 27s 70ms/step - loss: 0.1352 - accuracy: 0.9525 - val_loss: 0.3832 - val_accuracy: 0.8656\n",
      "Epoch 5/10\n",
      "391/391 [==============================] - 25s 63ms/step - loss: 0.1093 - accuracy: 0.9620 - val_loss: 0.4196 - val_accuracy: 0.8632\n",
      "Epoch 6/10\n",
      "391/391 [==============================] - 19s 49ms/step - loss: 0.0851 - accuracy: 0.9716 - val_loss: 0.5001 - val_accuracy: 0.8596\n",
      "Epoch 7/10\n",
      "391/391 [==============================] - 16s 40ms/step - loss: 0.0669 - accuracy: 0.9788 - val_loss: 0.5808 - val_accuracy: 0.8576\n",
      "Epoch 8/10\n",
      "391/391 [==============================] - 14s 36ms/step - loss: 0.0585 - accuracy: 0.9811 - val_loss: 0.6519 - val_accuracy: 0.8562\n",
      "Epoch 9/10\n",
      "391/391 [==============================] - 14s 34ms/step - loss: 0.0424 - accuracy: 0.9880 - val_loss: 0.7031 - val_accuracy: 0.8545\n",
      "Epoch 10/10\n",
      "391/391 [==============================] - 12s 30ms/step - loss: 0.0277 - accuracy: 0.9938 - val_loss: 0.8703 - val_accuracy: 0.8502\n"
     ]
    }
   ],
   "source": [
    "epochs = 10\n",
    "with tf.device('GPU:0'):\n",
    "    history = model.fit(train_dataset, epochs=epochs, validation_data=(test_dataset))"
   ]
  },
  {
   "cell_type": "code",
   "execution_count": 16,
   "id": "3d4468bd",
   "metadata": {},
   "outputs": [
    {
     "data": {
      "image/png": "[encoded data removed]",
      "text/plain": [
       "<Figure size 1000x400 with 2 Axes>"
      ]
     },
     "metadata": {},
     "output_type": "display_data"
    }
   ],
   "source": [
    "import matplotlib.pyplot as plt\n",
    "\n",
    "fig, ax = plt.subplots(1, 2, figsize=(10, 4))\n",
    "ax[0].plot(history.history['accuracy'], label='training_accuracy');\n",
    "ax[0].plot(history.history['val_accuracy'], label='validation_accuracy');\n",
    "\n",
    "ax[1].plot(history.history['loss'], label='training_loss')\n",
    "ax[1].plot(history.history['val_loss'], label='validation_loss')\n",
    "\n",
    "ax[0].set_ylabel('Accuracy');\n",
    "ax[1].set_ylabel('Loss');\n",
    "\n",
    "ax[0].legend();\n",
    "ax[1].legend();"
   ]
  },
  {
   "cell_type": "markdown",
   "id": "7b5f548a",
   "metadata": {},
   "source": [
    "**This shows that we have overfitting**"
   ]
  }
 ],
 "metadata": {
  "kernelspec": {
   "display_name": "Python 3 (ipykernel)",
   "language": "python",
   "name": "python3"
  },
  "language_info": {
   "codemirror_mode": {
    "name": "ipython",
    "version": 3
   },
   "file_extension": ".py",
   "mimetype": "text/x-python",
   "name": "python",
   "nbconvert_exporter": "python",
   "pygments_lexer": "ipython3",
   "version": "3.11.3"
  }
 },
 "nbformat": 4,
 "nbformat_minor": 5
}
